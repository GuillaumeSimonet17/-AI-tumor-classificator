{
 "cells": [
  {
   "metadata": {
    "ExecuteTime": {
     "end_time": "2024-06-23T09:25:24.761015Z",
     "start_time": "2024-06-23T09:25:24.754665Z"
    }
   },
   "cell_type": "code",
   "source": "import numpy as np",
   "id": "8004eaef4b00e6e9",
   "outputs": [],
   "execution_count": 9
  },
  {
   "cell_type": "code",
   "id": "initial_id",
   "metadata": {
    "collapsed": true,
    "ExecuteTime": {
     "end_time": "2024-06-23T09:25:24.977073Z",
     "start_time": "2024-06-23T09:25:24.970470Z"
    }
   },
   "source": [
    "def init(dim):\n",
    "    params = {}\n",
    "    layers = len(dim)\n",
    "    \n",
    "    for l in range(layers):\n",
    "        params['W' + str(l)] = np.random.randn(dim[l], dim[l - 1])\n",
    "        params['b' + str(l)] = np.random.randn(dim[l], 1)\n",
    "        \n",
    "    return params\n",
    "\n",
    "parameters = init([2, 32, 32, 1])\n",
    "\n",
    "for key, val in parameters.items():\n",
    "    print(key, val.shape)"
   ],
   "outputs": [
    {
     "name": "stdout",
     "output_type": "stream",
     "text": [
      "W0 (2, 1)\n",
      "b0 (2, 1)\n",
      "W1 (32, 2)\n",
      "b1 (32, 1)\n",
      "W2 (32, 32)\n",
      "b2 (32, 1)\n",
      "W3 (1, 32)\n",
      "b3 (1, 1)\n"
     ]
    }
   ],
   "execution_count": 10
  },
  {
   "metadata": {},
   "cell_type": "code",
   "outputs": [],
   "execution_count": null,
   "source": "",
   "id": "5880e976d801c316"
  }
 ],
 "metadata": {
  "kernelspec": {
   "display_name": "Python 3",
   "language": "python",
   "name": "python3"
  },
  "language_info": {
   "codemirror_mode": {
    "name": "ipython",
    "version": 2
   },
   "file_extension": ".py",
   "mimetype": "text/x-python",
   "name": "python",
   "nbconvert_exporter": "python",
   "pygments_lexer": "ipython2",
   "version": "2.7.6"
  }
 },
 "nbformat": 4,
 "nbformat_minor": 5
}

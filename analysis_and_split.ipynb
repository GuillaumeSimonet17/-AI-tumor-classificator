{
 "cells": [
  {
   "cell_type": "code",
   "id": "313043aa-844e-4a21-9a70-3f7b94360451",
   "metadata": {
    "ExecuteTime": {
     "end_time": "2024-08-25T09:19:59.941193Z",
     "start_time": "2024-08-25T09:19:59.145584Z"
    }
   },
   "source": [
    "import numpy as np\n",
    "import pandas as pd\n",
    "import matplotlib.pyplot as plt"
   ],
   "outputs": [],
   "execution_count": 1
  },
  {
   "cell_type": "code",
   "id": "d01cc432-28ae-4c60-8dc5-4664eed769fa",
   "metadata": {
    "ExecuteTime": {
     "end_time": "2024-08-25T09:53:23.283462Z",
     "start_time": "2024-08-25T09:53:23.265365Z"
    }
   },
   "source": [
    "head = ['id', 'diagnosis',\n",
    "'mean radius', 'radius SE', 'worst radius',\n",
    "'mean texture', 'texture SE', 'worst texture',\n",
    "'mean perimeter', 'perimeter SE', 'worst perimeter',\n",
    "'mean area', 'area SE', 'worst area',\n",
    "'mean smoothness', 'smoothness SE', 'worst smoothness',\n",
    "'mean compactness', 'compactness SE', 'worst compactness',\n",
    "'mean concavity', 'concavity SE', 'worst concavity',\n",
    "'mean concave points', 'concave points SE', 'worst concave points',\n",
    "'mean symmetry', 'symmetry SE', 'worst symmetry',\n",
    "'mean fractal dimension', 'fractal dimension SE', 'worst fractal dimension']\n",
    "\n",
    "data = pd.read_csv('datas/data.csv', names=head)\n",
    "type_of_tumor = data.iloc[:,1]\n",
    "features = data.iloc[:,2:]"
   ],
   "outputs": [],
   "execution_count": 79
  },
  {
   "cell_type": "code",
   "id": "2a2e713c-f30e-408b-8799-93605761fcb9",
   "metadata": {
    "ExecuteTime": {
     "end_time": "2024-08-25T09:53:23.665140Z",
     "start_time": "2024-08-25T09:53:23.658005Z"
    }
   },
   "source": [
    "def scatter_hist_data(data_to_analyse):\n",
    "    for i in range(2, data_to_analyse.shape[1]):\n",
    "        other = data_to_analyse.iloc[:,i]\n",
    "        plt.scatter(other,type_of_tumor)\n",
    "        label = f'{head[i]} - {i}'\n",
    "        plt.xlabel(label)\n",
    "        plt.show()\n",
    "\t\t\n",
    "        plt.hist(other, bins=5, edgecolor='black')\n",
    "        label = f'{head[i]} - {i}'\n",
    "        plt.xlabel(label)\n",
    "        plt.show()\n",
    "\n",
    "# scatter_hist_data(features)"
   ],
   "outputs": [],
   "execution_count": 80
  },
  {
   "cell_type": "markdown",
   "id": "61ce4f47-cb83-47ce-8ec3-7a3a0619396d",
   "metadata": {},
   "source": [
    "#### Split the dataset"
   ]
  },
  {
   "cell_type": "code",
   "id": "f5026e82-d40c-4f53-8d41-77a656e096a6",
   "metadata": {
    "ExecuteTime": {
     "end_time": "2024-08-25T09:53:24.815114Z",
     "start_time": "2024-08-25T09:53:24.804366Z"
    }
   },
   "source": [
    "nb_samples = features.shape[0]\n",
    "nb_features = features.shape[1]\n",
    "\n",
    "test_set_size = int(nb_samples * 0.2)\n",
    "\n",
    "train_X = np.array(features[:-test_set_size])\n",
    "train_Y = np.array(type_of_tumor[:-test_set_size])\n",
    "\n",
    "validation_X = np.array(features[-test_set_size:])\n",
    "validation_Y = np.array(type_of_tumor[-test_set_size:])"
   ],
   "outputs": [],
   "execution_count": 81
  },
  {
   "cell_type": "markdown",
   "id": "027339e8-4478-4a8f-8d2f-5eb68acca9a0",
   "metadata": {},
   "source": [
    "#### Standardization"
   ]
  },
  {
   "cell_type": "code",
   "id": "0931a560-488c-4ecf-be9c-5b0a4ea8f655",
   "metadata": {
    "ExecuteTime": {
     "end_time": "2024-08-25T09:53:25.578910Z",
     "start_time": "2024-08-25T09:53:25.571465Z"
    }
   },
   "source": [
    "def standardization(data_to_std):\n",
    "    mean = np.mean(data_to_std, axis=0)\n",
    "    std = np.std(data_to_std, axis=0)\n",
    "    data_std = (data_to_std - mean) / std\n",
    "    return data_std"
   ],
   "outputs": [],
   "execution_count": 82
  },
  {
   "metadata": {
    "ExecuteTime": {
     "end_time": "2024-08-25T09:53:26.578247Z",
     "start_time": "2024-08-25T09:53:26.504622Z"
    }
   },
   "cell_type": "code",
   "source": [
    "\n",
    "validation_X_std = standardization(validation_X)\n",
    "train_X_std = standardization(train_X)\n",
    "std_values = [np.mean(features, axis=0), np.std(features, axis=0)]\n",
    "\n",
    "np.savetxt('datas/std_values.csv', std_values, delimiter=',')\n",
    "np.savetxt('datas/train_X_std.csv', train_X_std, delimiter=',')\n",
    "np.savetxt('datas/validation_X_std.csv', validation_X_std, delimiter=',')\n",
    "\n",
    "train_Y_bool = [1 if x == 'M' else 0 for x in train_Y]\n",
    "validation_Y_bool = [1 if x == 'M' else 0 for x in validation_Y]\n",
    "\n",
    "np.savetxt('datas/train_Y_bool.csv', train_Y_bool, fmt='%d')\n",
    "np.savetxt('datas/validation_Y_bool.csv', validation_Y_bool, fmt='%d')"
   ],
   "id": "f83187dc56338d2d",
   "outputs": [],
   "execution_count": 83
  },
  {
   "metadata": {
    "ExecuteTime": {
     "end_time": "2024-08-23T09:09:24.680123Z",
     "start_time": "2024-08-23T09:09:24.678375Z"
    }
   },
   "cell_type": "code",
   "source": "    ",
   "id": "7e70bf078840f2c5",
   "outputs": [],
   "execution_count": null
  }
 ],
 "metadata": {
  "kernelspec": {
   "display_name": "Python 3 (ipykernel)",
   "language": "python",
   "name": "python3"
  },
  "language_info": {
   "codemirror_mode": {
    "name": "ipython",
    "version": 3
   },
   "file_extension": ".py",
   "mimetype": "text/x-python",
   "name": "python",
   "nbconvert_exporter": "python",
   "pygments_lexer": "ipython3",
   "version": "3.10.12"
  }
 },
 "nbformat": 4,
 "nbformat_minor": 5
}

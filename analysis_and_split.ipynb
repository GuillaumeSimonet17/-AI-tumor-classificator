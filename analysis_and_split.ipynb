{
 "cells": [
  {
   "cell_type": "code",
   "id": "313043aa-844e-4a21-9a70-3f7b94360451",
   "metadata": {
    "ExecuteTime": {
     "end_time": "2024-06-23T09:51:53.893089Z",
     "start_time": "2024-06-23T09:51:53.888360Z"
    }
   },
   "source": [
    "import numpy as np\n",
    "import pandas as pd\n",
    "import matplotlib.pyplot as plt"
   ],
   "outputs": [],
   "execution_count": 13
  },
  {
   "cell_type": "code",
   "id": "d01cc432-28ae-4c60-8dc5-4664eed769fa",
   "metadata": {
    "ExecuteTime": {
     "end_time": "2024-06-23T09:51:53.923275Z",
     "start_time": "2024-06-23T09:51:53.895992Z"
    }
   },
   "source": [
    "head = ['id', 'diagnosis',\n",
    "'mean radius', 'radius SE', 'worst radius',\n",
    "'mean texture', 'texture SE', 'worst texture',\n",
    "'mean perimeter', 'perimeter SE', 'worst perimeter',\n",
    "'mean area', 'area SE', 'worst area',\n",
    "'mean smoothness', 'smoothness SE', 'worst smoothness',\n",
    "'mean compactness', 'compactness SE', 'worst compactness',\n",
    "'mean concavity', 'concavity SE', 'worst concavity',\n",
    "'mean concave points', 'concave points SE', 'worst concave points',\n",
    "'mean symmetry', 'symmetry SE', 'worst symmetry',\n",
    "'mean fractal dimension', 'fractal dimension SE', 'worst fractal dimension']\n",
    "\n",
    "data = pd.read_csv('data.csv', names=head)\n",
    "type_of_tumor = data.iloc[:,1]\n",
    "features = data.iloc[:,2:]"
   ],
   "outputs": [],
   "execution_count": 14
  },
  {
   "cell_type": "code",
   "id": "2a2e713c-f30e-408b-8799-93605761fcb9",
   "metadata": {
    "ExecuteTime": {
     "end_time": "2024-06-23T09:51:53.960440Z",
     "start_time": "2024-06-23T09:51:53.954206Z"
    }
   },
   "source": [
    "def scatter_hist_data(data_to_analyse):\n",
    "    for i in range(2, data_to_analyse.shape[1]):\n",
    "        other = data_to_analyse.iloc[:,i]\n",
    "        plt.scatter(other,type_of_tumor)\n",
    "        plt.xlabel(head[i])\n",
    "        plt.show()\n",
    "        plt.hist(other, bins=5, edgecolor='black')\n",
    "        plt.xlabel(head[i])\n",
    "        plt.show()\n",
    "\n",
    "# do not take those are not well dispersed (see hist), like the 15"
   ],
   "outputs": [],
   "execution_count": 15
  },
  {
   "cell_type": "markdown",
   "id": "61ce4f47-cb83-47ce-8ec3-7a3a0619396d",
   "metadata": {},
   "source": [
    "#### Split the dataset"
   ]
  },
  {
   "cell_type": "code",
   "id": "f5026e82-d40c-4f53-8d41-77a656e096a6",
   "metadata": {
    "ExecuteTime": {
     "end_time": "2024-06-23T09:51:53.978956Z",
     "start_time": "2024-06-23T09:51:53.972464Z"
    }
   },
   "source": [
    "nb_samples = features.shape[0]\n",
    "nb_features = features.shape[1]\n",
    "\n",
    "test_set_size = int(nb_samples * 0.2)\n",
    "\n",
    "\n",
    "train_X = np.array(features[:-test_set_size])\n",
    "train_Y = np.array(type_of_tumor[:-test_set_size])\n",
    "\n",
    "validation_X = np.array(features[-test_set_size:])\n",
    "validation_Y = np.array(type_of_tumor[-test_set_size:])"
   ],
   "outputs": [],
   "execution_count": 16
  },
  {
   "cell_type": "markdown",
   "id": "027339e8-4478-4a8f-8d2f-5eb68acca9a0",
   "metadata": {},
   "source": [
    "#### Standardization"
   ]
  },
  {
   "cell_type": "code",
   "id": "0931a560-488c-4ecf-be9c-5b0a4ea8f655",
   "metadata": {
    "ExecuteTime": {
     "end_time": "2024-06-23T09:51:54.009325Z",
     "start_time": "2024-06-23T09:51:53.984059Z"
    }
   },
   "source": [
    "def standardization(data_to_std):\n",
    "    return (data_to_std - np.mean(data_to_std, axis=0)) / np.std(data_to_std, axis=0)\n",
    "\n",
    "train_X_std = standardization(train_X)\n",
    "validation_X_std = standardization(validation_X)\n",
    "\n",
    "np.savetxt('train_X_std.csv', train_X_std, delimiter=',')"
   ],
   "outputs": [],
   "execution_count": 17
  },
  {
   "cell_type": "code",
   "id": "0de28c16-af2c-4117-a4ec-7cf71fbf3ab8",
   "metadata": {
    "ExecuteTime": {
     "end_time": "2024-06-23T09:51:54.013582Z",
     "start_time": "2024-06-23T09:51:54.011057Z"
    }
   },
   "source": [],
   "outputs": [],
   "execution_count": 17
  }
 ],
 "metadata": {
  "kernelspec": {
   "display_name": "Python 3 (ipykernel)",
   "language": "python",
   "name": "python3"
  },
  "language_info": {
   "codemirror_mode": {
    "name": "ipython",
    "version": 3
   },
   "file_extension": ".py",
   "mimetype": "text/x-python",
   "name": "python",
   "nbconvert_exporter": "python",
   "pygments_lexer": "ipython3",
   "version": "3.10.12"
  }
 },
 "nbformat": 4,
 "nbformat_minor": 5
}
